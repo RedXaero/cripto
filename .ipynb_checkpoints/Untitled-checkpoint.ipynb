{
 "cells": [
  {
   "cell_type": "code",
   "execution_count": null,
   "metadata": {},
   "outputs": [
    {
     "name": "stdout",
     "output_type": "stream",
     "text": [
      "Ingresa a >1759\n",
      "Ingresa b >550\n"
     ]
    }
   ],
   "source": [
    "a = int(input(\"Ingresa a >\"))\n",
    "b = int(input(\"Ingresa b >\"))\n",
    "x = [0, 0, 0]\n",
    "y = [0, 0, 0]\n",
    "r = [0, 0, 0]\n",
    "q = [0, 0, 0]\n",
    "i = 0\n",
    "\n",
    "r[i] = a\n",
    "x[i] = 1\n",
    "y[i] = 0\n",
    "i += 1\n",
    "\n",
    "r[i] = b\n",
    "x[i] = 0\n",
    "y[i] = 1\n",
    "i += 1\n",
    "\n",
    "flag = True\n",
    "\n",
    "while(flag == True):\n",
    "    if(i == 0):\n",
    "        r[i] = r[i+1] % r[i+2]\n",
    "        q[i+1] = r[i+1] // r[i+2]\n",
    "        x[i] = x[i+1] - q[i+1] * x[i+2]\n",
    "        y[i] = y[i+1] - q[i+1] * y[i+2]\n",
    "        if(r[i] == 1):\n",
    "            flag = False\n",
    "            break\n",
    "    elif(i == 1):\n",
    "        r[i] = r[i+1] % r[i-1]\n",
    "        q[i+1] = r[i+1] // r[i-1]\n",
    "        x[i] = x[i+1] - q[i+1] * x[i-1]\n",
    "        y[i] = y[i+1] - q[i+1] * y[i-1]\n",
    "        if(r[i] == 1):\n",
    "            break\n",
    "            flag = False\n",
    "    elif(i == 2):\n",
    "        r[i] = r[i-2] % r[i-1]\n",
    "        q[i-2] = r[i-2] // r[i-1]\n",
    "        x[i] = x[i-2] - q[i-2] * x[i-1]\n",
    "        y[i] = y[i-2] - q[i-2] * y[i-1]\n",
    "        if(r[i] == 1):\n",
    "            break\n",
    "            flag = False\n",
    "    if(i == 2):\n",
    "        i = 0\n",
    "\n",
    "print(\"y = {}\".format(y))\n",
    "print(\"r = {}\".format(r))"
   ]
  },
  {
   "cell_type": "code",
   "execution_count": null,
   "metadata": {},
   "outputs": [],
   "source": []
  }
 ],
 "metadata": {
  "kernelspec": {
   "display_name": "Python 3",
   "language": "python",
   "name": "python3"
  },
  "language_info": {
   "codemirror_mode": {
    "name": "ipython",
    "version": 3
   },
   "file_extension": ".py",
   "mimetype": "text/x-python",
   "name": "python",
   "nbconvert_exporter": "python",
   "pygments_lexer": "ipython3",
   "version": "3.8.3"
  }
 },
 "nbformat": 4,
 "nbformat_minor": 4
}
